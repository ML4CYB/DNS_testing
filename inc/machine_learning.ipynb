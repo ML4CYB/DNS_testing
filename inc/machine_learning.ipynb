{
 "cells": [
  {
   "cell_type": "code",
   "execution_count": 9,
   "metadata": {
    "colab": {
     "base_uri": "https://localhost:8080/"
    },
    "id": "YtmanoNzatGV",
    "outputId": "726aec12-5370-4963-f92e-dac5033429dc"
   },
   "outputs": [],
   "source": [
    "import pandas as pd\n",
    "import numpy as np\n",
    "\n",
    "filename = 'labeledPackets.csv'\n",
    "\n",
    "\n",
    "# make a array, li, to hold both initial data frames from the CSV files\n",
    "li = []\n",
    "li.append(pd.read_csv(filename))\n",
    "\n",
    "\n",
    "data = pd.concat(li, axis=0,ignore_index=True)"
   ]
  },
  {
   "cell_type": "code",
   "execution_count": 10,
   "metadata": {
    "id": "L0jVV5L9yrFY"
   },
   "outputs": [],
   "source": [
    "# loop through all indexes to preprocessdata\n",
    "for index in range(len(data)):\n",
    "  # clean up responsetimetimemedian and responsetimetimeskewfrommedian NaN values\n",
    "  if np.isnan(data.loc[index,'ResponseTimeTimeMedian']):\n",
    "     data.at[index,'ResponseTimeTimeMedian'] = 0\n",
    "  if np.isnan(data.loc[index,'ResponseTimeTimeSkewFromMedian']):\n",
    "     data.at[index,'ResponseTimeTimeSkewFromMedian'] = 0\n",
    "\n",
    "# drop unwanted columns\n",
    "data = data.drop(['TimeStamp','SourceIP','DestinationIP','SourcePort','DestinationPort'],axis=1)\n",
    "\n",
    "# verify; check for nans left\n",
    "for col in data.columns:\n",
    "      NaNsum = data.loc[:,col].isna().sum()\n",
    "      if NaNsum > 0:\n",
    "        print(\"Col: %s NaN: %d\" % (col,NaNsum))"
   ]
  },
  {
   "cell_type": "code",
   "execution_count": 11,
   "metadata": {
    "id": "tsh7D_ZAcX09"
   },
   "outputs": [],
   "source": [
    "# get the data ready to be put into the decision tree/Naive Bayes/SVM\n",
    "from sklearn.model_selection import train_test_split\n",
    "\n",
    "# training data\n",
    "cdata = data.drop('Label', axis=1)\n",
    "labels = data['Label']\n",
    "\n",
    "# preprocess\n",
    "from sklearn.preprocessing import OneHotEncoder\n",
    "from sklearn.compose import ColumnTransformer\n",
    "from sklearn.preprocessing import StandardScaler\n",
    "\n",
    "# split things up 80%/20%\n",
    "cdata_train, cdata_test, labels_train, labels_test = train_test_split(cdata,labels, test_size=0.2, random_state=1)\n"
   ]
  },
  {
   "cell_type": "code",
   "execution_count": 12,
   "metadata": {
    "colab": {
     "base_uri": "https://localhost:8080/",
     "height": 75
    },
    "id": "ImUWhYfedxQe",
    "outputId": "7632a9dc-b7d3-4b31-b814-8a2cc493ae51"
   },
   "outputs": [],
   "source": [
    "from sklearn import tree\n",
    "# make the decision tree - unlimited depth\n",
    "cls = tree.DecisionTreeClassifier()\n",
    "cls.fit(cdata_train, labels_train)\n",
    "\n",
    "# make a second decision tree - max depth 10\n",
    "clsd10 = tree.DecisionTreeClassifier(max_depth=10)\n",
    "clsd10.fit(cdata_train, labels_train)"
   ]
  },
  {
   "cell_type": "code",
   "execution_count": 13,
   "metadata": {
    "id": "JH4o3du76KHR"
   },
   "outputs": [],
   "source": [
    "from sklearn.tree import export_graphviz\n",
    "from io import StringIO\n",
    "from IPython.display import Image\n",
    "import pydotplus\n",
    "\n",
    "# make the first unlimited depth tree\n",
    "dot_data = StringIO()\n",
    "export_graphviz(cls, out_file=dot_data, filled=True, rounded=True, special_characters=True, feature_names = cdata.columns, class_names=['DoH','nonDoH'])\n",
    "graph = pydotplus.graph_from_dot_data(dot_data.getvalue())\n",
    "Image(graph.create_png())"
   ]
  },
  {
   "cell_type": "code",
   "execution_count": 14,
   "metadata": {
    "id": "XRJbIIRj6K8h"
   },
   "outputs": [],
   "source": [
    "# make the second depth=10 tree\n",
    "dot_data2 = StringIO()\n",
    "export_graphviz(clsd10, out_file=dot_data2, filled=True, rounded=True, special_characters=True, feature_names = cdata.columns, class_names=['DoH','nonDoH'])\n",
    "graph2 = pydotplus.graph_from_dot_data(dot_data2.getvalue())\n",
    "Image(graph2.create_png())"
   ]
  },
  {
   "cell_type": "code",
   "execution_count": 15,
   "metadata": {
    "colab": {
     "base_uri": "https://localhost:8080/"
    },
    "id": "aY6FA0LuL5oT",
    "outputId": "57686997-d0a1-4ac5-9adc-7825cb0a1dd3"
   },
   "outputs": [],
   "source": [
    "from sklearn import metrics\n",
    "\n",
    "# fit the test data\n",
    "cdata_test_pred = cls.predict(cdata_test)\n",
    "cdata_test_pred_d10 = clsd10.predict(cdata_test)\n",
    "\n",
    "# get the confusion matrix and other statistics\n",
    "tn, fp, fn, tp = metrics.confusion_matrix(labels_test,cdata_test_pred).ravel()\n",
    "precision = tp/(tp+fp)\n",
    "recall    = tp/(tp+fn)\n",
    "f1        = 2*((precision*recall)/(precision+recall))\n",
    "\n",
    "tnd10, fpd10, fnd10, tpd10 = metrics.confusion_matrix(labels_test,cdata_test_pred_d10).ravel()\n",
    "precisiond10 = tpd10/(tpd10+fpd10)\n",
    "recalld10    = tpd10/(tpd10+fnd10)\n",
    "f1d10        = 2*((precisiond10*recalld10)/(precisiond10+recalld10))\n",
    "\n",
    "# print out results\n",
    "print(\"Decision Tree - Unlimited depth:\")\n",
    "print(\"    Accuracy:\",metrics.accuracy_score(labels_test,cdata_test_pred))\n",
    "print(\"    (TN,FP,FN,TP): [%d,%d,%d,%d]\" % (tn,fp,fn,tp))\n",
    "print(\"    Precision: %f\" % precision)\n",
    "print(\"    Recall: %f\" % recall)\n",
    "print(\"    F1 score: %f\" % f1)\n",
    "\n",
    "print(\"Decision Tree - Depth 10:\")\n",
    "print(\"    Accuracy:\",metrics.accuracy_score(labels_test,cdata_test_pred_d10))\n",
    "print(\"    (TN,FP,FN,TP): [%d,%d,%d,%d]\" % (tnd10,fpd10,fnd10,tpd10))\n",
    "print(\"    Precision: %f\" % precisiond10)\n",
    "print(\"    Recall: %f\" % recalld10)\n",
    "print(\"    F1 score: %f \" % f1d10)"
   ]
  }
 ],
 "metadata": {
  "colab": {
   "provenance": []
  },
  "kernelspec": {
   "display_name": "Python 3 (ipykernel)",
   "language": "python",
   "name": "python3"
  },
  "language_info": {
   "codemirror_mode": {
    "name": "ipython",
    "version": 3
   },
   "file_extension": ".py",
   "mimetype": "text/x-python",
   "name": "python",
   "nbconvert_exporter": "python",
   "pygments_lexer": "ipython3",
   "version": "3.10.12"
  }
 },
 "nbformat": 4,
 "nbformat_minor": 4
}
