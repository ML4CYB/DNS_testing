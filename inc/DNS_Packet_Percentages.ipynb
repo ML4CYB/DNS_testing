{
  "nbformat": 4,
  "nbformat_minor": 0,
  "metadata": {
    "colab": {
      "provenance": []
    },
    "kernelspec": {
      "name": "python3",
      "display_name": "Python 3"
    },
    "language_info": {
      "name": "python"
    }
  },
  "cells": [
    {
      "cell_type": "code",
      "source": [
        "import pandas as pd\n",
        "import numpy as np\n",
        "import matplotlib.pyplot as plt\n",
        "import seaborn as sns\n",
        "\n",
        "filename = 'labeledPackets.csv'\n",
        "DNS_data = pd.read_csv(filename)      # Reads content within labeledPacket.csv into a dataframe\n",
        "\n",
        "\n",
        "name_counts_df = DNS_data['Label'].value_counts().reset_index()       # Counts the number of DoH and non-DoH occurences in labels column and places them into a new dataframe\n",
        "name_counts_df.columns = ['Name', 'Percent']\n",
        "\n",
        "name_counts_df['Percent'] = (name_counts_df['Percent'] / len(DNS_data)) * 100       # Calculates the average percentage of DoH and non-DoH packets\n"
      ],
      "metadata": {
        "id": "9FP7hNBIUyW4"
      },
      "execution_count": 75,
      "outputs": []
    },
    {
      "cell_type": "code",
      "source": [
        "plt.figure(figsize=(10, 6))\n",
        "\n",
        "sns.barplot(data=name_counts_df, x='Name', y='Percent')\n",
        "\n",
        "plt.ylim([0, 100])\n",
        "\n",
        "plt.xlabel(\"DNS TYPE\", size = 17, weight = 'bold')\n",
        "plt.ylabel(\"Percent\", size = 17, weight = 'bold')\n",
        "plt.title(f\"DNS Packet Percentages\", fontdict={'size': 25, 'weight': 'bold'})\n",
        "\n",
        "plt.show()"
      ],
      "metadata": {
        "id": "Y8agEep3VwOa"
      },
      "execution_count": 76,
      "outputs": []
    }
  ]
}